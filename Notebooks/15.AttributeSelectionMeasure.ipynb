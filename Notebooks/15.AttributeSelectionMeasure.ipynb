{
 "cells": [
  {
   "cell_type": "markdown",
   "id": "b65c1e0d-3116-4d17-8522-f22d475ea2e5",
   "metadata": {},
   "source": [
    "# 15. Attribute Selection Measures\n",
    "\n",
    "Based on https://towardsdatascience.com/gini-index-vs-information-entropy-7a7e4fed3fcb.\n",
    "\n",
    "Decision trees recursively split features with regard to their target label's purity. Attribute selection measures are designed to find the **optimal point** of the **most predictive feature** in order to split 1 dataset into 2. These 2 new datasets’ target variable will be more pure than the original dataset’s. Purity means how homogeneous a dataset is.\n",
    "\n",
    "How do we measure the **purity** of the 2 new datasets?\n",
    "The two most popular algorithms for measuring purity and selecting the optimal decisions in a decision tree are **Information Entropy** and **Gini Index**.\n",
    "\n",
    "We will discuss how these two methods measure purty using three examples:\n",
    "\n",
    "- If we have 4 red gumballs and 0 blue gumballs, that group of 4 is 100% pure.\n",
    "- If we have 2 red and 2 blue, that group is 100% impure.\n",
    "- If we have 3 red and 1 blue, that group is either 75% or 81% pure, if we use Gini or Entropy respectively.\n",
    "\n",
    "<img src=\"https://github.com/rhennig/EMA6938/blob/main/Notebooks/Figures/Impurity.png?raw=1\" alt=\"Impurity Examples\" align=\"center\" style=\"width:400px; float:center\"/>"
   ]
  },
  {
   "cell_type": "markdown",
   "id": "60adc5ab-fd01-4281-8c02-a4ed67627df9",
   "metadata": {},
   "source": [
    "## Gini Index Intuition\n",
    "\n",
    "Gini Index is a bit easier to understand than entropy. The goal is to measure how often a randomly chosen element from the set would be incorrectly labeled.\n",
    "\n",
    "The Gini Index is determined by deducting the sum of squared probabilities of each class from one,\n",
    "$$\n",
    "\\mathrm{Gini} = 1 - \\sum_j P_j^2,\n",
    "$$\n",
    "where $P_j$ denotes the probability of an element being classified for a distinct class.\n",
    "\n",
    "To understand this, we use the gumball examples. If we decided to arbitrarily label all 4 gumballs as red, how often would one of the gumballs be incorrectly labeled?"
   ]
  },
  {
   "cell_type": "code",
   "execution_count": 1,
   "id": "87d2ba27-9c1d-4539-9c50-9fa51abf7911",
   "metadata": {},
   "outputs": [],
   "source": [
    "import math \n",
    "from math import log as log\n",
    "\n",
    "# Define the Gini Function for red and blue gumballs\n",
    "# r and b are the quantities of each class\n",
    "def gini(r,b):\n",
    "    P_red  = r/(r+b)\n",
    "    P_blue = b/(r+b)\n",
    "    return 1 - (P_red**2 + P_blue**2)"
   ]
  },
  {
   "cell_type": "markdown",
   "id": "9331e37a-7910-4a29-83d1-f0e40b8f74c9",
   "metadata": {},
   "source": [
    "#### 4 red and 0 blue:\n",
    "\n",
    "$$\n",
    "\\mathrm{Gini} = 1 - (\\text{Probability red})^2 - (\\text{Probability blue})^2 = 1 - 1 - 0 = 0\n",
    "$$"
   ]
  },
  {
   "cell_type": "code",
   "execution_count": 2,
   "id": "22df16d4-9a0a-41f8-be04-1eb147796601",
   "metadata": {},
   "outputs": [
    {
     "name": "stdout",
     "output_type": "stream",
     "text": [
      "Gini index =  0.0\n"
     ]
    }
   ],
   "source": [
    "print(\"Gini index = \", gini(4,0))"
   ]
  },
  {
   "cell_type": "markdown",
   "id": "de5cb126-14b0-498c-b726-a662ac8cd6dc",
   "metadata": {},
   "source": [
    "The impurity measurement is 0 because we would never incorrectly label any of the 4 red gumballs here.\n",
    "\n",
    "If we arbitrarily chose to label all the balls ‘blue’, then our index would still be 0, because we would always incorrectly label the gumballs.\n",
    "The gini score is always the same no matter what arbitrary class you take the probabilities of because they always add to 0 in the formula above.\n",
    "A gini score of 0 is the most pure score possible.\n",
    "\n",
    "#### 2 red and 2 blue:\n",
    "\n",
    "$$\n",
    "\\mathrm{Gini} = 1 - (\\text{Probability red})^2 - (\\text{Probability blue})^2 = 1 - 0.5^2 - 0.5^2 = 0.5\n",
    "$$"
   ]
  },
  {
   "cell_type": "code",
   "execution_count": 3,
   "id": "f29055e5-82b2-4cc3-b61e-dd5c9eafcef2",
   "metadata": {},
   "outputs": [
    {
     "name": "stdout",
     "output_type": "stream",
     "text": [
      "Gini index =  0.5\n"
     ]
    }
   ],
   "source": [
    "print(\"Gini index = \", gini(2,2))"
   ]
  },
  {
   "cell_type": "markdown",
   "id": "3dd40af6-0ab6-4acc-a1ed-b0c915ea08bd",
   "metadata": {},
   "source": [
    "The impurity measurement is 0.5 because we would incorrectly label gumballs wrong about half the time. Because this index is used in binary target variables (0,1), a gini index of 0.5 is the least pure score possible. Half is one type and half is the other. Dividing gini scores by 0.5 can help intuitively understand what the score represents. 0.5/0.5 = 1, meaning the grouping is as impure as possible (in a group with just 2 outcomes).\n",
    "\n",
    "#### 3 red and 1 blue:\n",
    "\n",
    "$$\n",
    "\\mathrm{Gini} = 1 - (\\text{Probability red})^2 - (\\text{Probability blue})^2 = 1 - 0.75^2 - 0.25^2 = 0.375\n",
    "$$"
   ]
  },
  {
   "cell_type": "code",
   "execution_count": 4,
   "id": "19f18d00-d300-4177-a5df-b656818027a0",
   "metadata": {},
   "outputs": [
    {
     "name": "stdout",
     "output_type": "stream",
     "text": [
      "Gini index =  0.375\n"
     ]
    }
   ],
   "source": [
    "print(\"Gini index = \", gini(3,1))"
   ]
  },
  {
   "cell_type": "markdown",
   "id": "fa7de67d-5b39-4647-99a3-7d0a56aebb4b",
   "metadata": {},
   "source": [
    "The impurity measurement here is 0.375. If we divide this by 0.5 for more intuitive understanding we will get 0.75, which is the probability of incorrectly/correctly labeling."
   ]
  },
  {
   "cell_type": "markdown",
   "id": "654b7191-2325-4984-b944-d8d878cb8c8e",
   "metadata": {},
   "source": []
  },
  {
   "cell_type": "markdown",
   "id": "a9ddee94-3292-413a-bd87-46499d2dbf2c",
   "metadata": {},
   "source": [
    "## Entropy Intuition\n",
    "\n",
    "$$\n",
    "\\text{Entropy} = - \\sum_{j} P_j \\, \\log_2 \\left ( P_j \\right ).\n",
    "$$\n",
    "\n",
    "Entropy is more computationally heavy due to the log in the equation. Like gini, the basic idea is to gauge the disorder of a grouping by the target variable.\n",
    "\n",
    "Instead of utilizing simple probabilities, this method takes the log base 2 of the probabilities. The entropy equation uses logarithms because of many advantageous properties.\n",
    "\n",
    "Let’s visualize how entropy works with the same gumball scenarios:\n",
    "4 red and 0 blue:"
   ]
  },
  {
   "cell_type": "code",
   "execution_count": 5,
   "id": "1da2f2a7-2399-45b8-ae22-40f305000a7b",
   "metadata": {},
   "outputs": [],
   "source": [
    "import math \n",
    "from math import log as log\n",
    "\n",
    "# Define the Entropy Function for red and blue gumballs\n",
    "# r and b are the quantities of each class\n",
    "def entropy(base,a,b):\n",
    "    try:\n",
    "        var = - a/(a+b) * log(a/(a+b),base) - b/(a+b) * log(b/(a+b),base)\n",
    "        return var\n",
    "    except (ValueError):\n",
    "        return 0"
   ]
  },
  {
   "cell_type": "markdown",
   "id": "6c4cc089-718c-46b7-b8fb-8430f9f0a086",
   "metadata": {},
   "source": [
    "#### 4 red and 0 blue:"
   ]
  },
  {
   "cell_type": "code",
   "execution_count": 6,
   "id": "5e408b3c-3ef5-4fbc-b246-e455be0af827",
   "metadata": {},
   "outputs": [
    {
     "name": "stdout",
     "output_type": "stream",
     "text": [
      "Entropy =  0\n"
     ]
    }
   ],
   "source": [
    "print(\"Entropy = \", entropy(2, 4, 0))"
   ]
  },
  {
   "cell_type": "markdown",
   "id": "b68faf53-bd82-4152-a6cb-3207d81e44f2",
   "metadata": {},
   "source": [
    "Unsurprisingly, the impurity measurement is 0 for entropy as well. This is the max purity score using information entropy."
   ]
  },
  {
   "cell_type": "markdown",
   "id": "faf721f6-df14-4206-8dea-0ac29c88130a",
   "metadata": {},
   "source": [
    "#### 2 red and 2 blue:"
   ]
  },
  {
   "cell_type": "code",
   "execution_count": 7,
   "id": "b7e9a1ff-ea07-4a3f-9455-beadb4e3de91",
   "metadata": {},
   "outputs": [
    {
     "name": "stdout",
     "output_type": "stream",
     "text": [
      "Entropy =  1.0\n"
     ]
    }
   ],
   "source": [
    "print(\"Entropy = \", entropy(2, 2, 2))"
   ]
  },
  {
   "cell_type": "markdown",
   "id": "38fd2b09-22c7-4469-84de-dff01fec810f",
   "metadata": {},
   "source": [
    "The impurity measurement is 1 here, as it’s the maximum impurity obtainable."
   ]
  },
  {
   "cell_type": "markdown",
   "id": "0f3dd0aa-5e1a-4792-a98e-c42f8d104866",
   "metadata": {},
   "source": [
    "#### 3 red and 1 blue:"
   ]
  },
  {
   "cell_type": "code",
   "execution_count": 8,
   "id": "de7bb43e-1cd9-4c6d-8bbc-6865ff3d6865",
   "metadata": {},
   "outputs": [
    {
     "name": "stdout",
     "output_type": "stream",
     "text": [
      "Entropy =  0.8112781244591328\n"
     ]
    }
   ],
   "source": [
    "print(\"Entropy = \", entropy(2, 3, 1))"
   ]
  },
  {
   "cell_type": "markdown",
   "id": "5fdca942-dc48-4614-bf19-92fcff5f9ea0",
   "metadata": {},
   "source": [
    "The purity/impurity measurement is 0.811 here, a bit worse than the gini score."
   ]
  },
  {
   "cell_type": "markdown",
   "id": "ec5b889d-b1b8-41d5-9e85-eead179d7e4d",
   "metadata": {
    "tags": []
   },
   "source": [
    "### Visualization of Gini Index and Entropy\n",
    "\n",
    "We extend the gumball example from integers to floating point numbers and create a loop that calculates the gini score of any conceivable combination of red and blue gumball floats, adding to 4. We will run 10,000 iterations of the gini function above so we can graph the gini curve later."
   ]
  },
  {
   "cell_type": "code",
   "execution_count": 9,
   "id": "625a9499-f7b5-4af6-a94e-3b7f3a56ff4e",
   "metadata": {
    "tags": []
   },
   "outputs": [
    {
     "data": {
      "image/png": "[encoded data removed]",
      "text/plain": [
       "<Figure size 432x288 with 1 Axes>"
      ]
     },
     "metadata": {
      "needs_background": "light"
     },
     "output_type": "display_data"
    }
   ],
   "source": [
    "import math \n",
    "import random\n",
    "from math import log as log\n",
    "from math import e\n",
    "import numpy as np\n",
    "import matplotlib.pyplot as plt\n",
    "\n",
    "ent_list  = []\n",
    "gini_list = []\n",
    "blue_list = []\n",
    "red_list  = []\n",
    "blue_prob_list = []\n",
    "\n",
    "for x in range (10000):\n",
    "    blue = random.uniform(0, 4)\n",
    "    red = abs(4-blue)\n",
    "    blue_list.append(blue)\n",
    "    red_list.append(red)\n",
    "    \n",
    "    a = entropy(2,red,blue)\n",
    "    ent_list.append(a)\n",
    "    \n",
    "    a = gini(red,blue)\n",
    "    gini_list.append(a)\n",
    "    \n",
    "    b = blue/(blue+red)\n",
    "    blue_prob_list.append(b)\n",
    "\n",
    "plt.scatter(blue_prob_list,gini_list)\n",
    "plt.scatter(blue_prob_list,ent_list)\n",
    "plt.xlabel('Probability of Blue Gumball %', fontsize=16)\n",
    "plt.ylabel('Entropy', fontsize=16)\n",
    "plt.title('Entropy Curve', fontsize=-20)\n",
    "plt.show()"
   ]
  },
  {
   "cell_type": "markdown",
   "id": "db1d78c3-14fd-412f-9c48-fed790cce942",
   "metadata": {},
   "source": [
    "Gini is blue, Entropy is orange."
   ]
  },
  {
   "cell_type": "markdown",
   "id": "9139742a-7545-431c-9058-c652a73ee3bd",
   "metadata": {},
   "source": [
    "# Information Gain\n",
    "\n",
    "Information gain is why impurity is so important. Once we derive the impurity of the dataset, we can see how much information is gained as we go down the tree and measure the change in impurity by the decision.\n",
    "\n",
    "For the information entropy:\n",
    "$$\n",
    "\\text{Information Gain(Parent, Children)} = H(\\text{Parent}) - \\left [ P(C_1) H(C_1) + P(C_2) H(C_2) + \\cdots \\right ]\n",
    "$$\n",
    "\n",
    "For the gini index:\n",
    "\n",
    "$$\n",
    "\\text{Information Gain(Parent, Children)} = \\text{Gini}(\\text{Parent}) - \\left [ P(C_1) \\text{Gini}(C_1) + P(C_2) \\text{Gini}(C_2) + \\cdots \\right ]\n",
    "$$\n",
    "\n"
   ]
  },
  {
   "cell_type": "code",
   "execution_count": 10,
   "id": "361931f4-b670-4e74-be2b-a8c1550f209f",
   "metadata": {},
   "outputs": [
    {
     "data": {
      "text/plain": [
       "0.1964625850340137"
      ]
     },
     "execution_count": 10,
     "metadata": {},
     "output_type": "execute_result"
    }
   ],
   "source": [
    "# Defining Gini info gain function:\n",
    "def gini_info_gain(p_red, p_blue, child1_red, child1_blue, child2_red, child2_blue):\n",
    "    return (gini(p_red,p_blue))-((child1_red+child1_blue)/(p_red+p_blue)*gini(child1_red,child1_blue) + (child2_red+child2_blue)/(p_red+p_blue)*gini(child2_red,child2_blue))\n",
    "\n",
    "# Running Function\n",
    "gini_info_gain(22,13,18,2,4,11)"
   ]
  },
  {
   "cell_type": "code",
   "execution_count": 11,
   "id": "a6b287d9-cdd3-4f09-91c8-b66ade3c0280",
   "metadata": {},
   "outputs": [
    {
     "data": {
      "text/plain": [
       "0.3252048756090272"
      ]
     },
     "execution_count": 11,
     "metadata": {},
     "output_type": "execute_result"
    }
   ],
   "source": [
    "# Defining Entropy info gain function:\n",
    "def entropy_info_gain(base, p_red, p_blue, child1_red, child1_blue, child2_red, child2_blue):\n",
    "    return (entropy(base,p_red,p_blue))-((child1_red+child1_blue)/(p_red+p_blue)*entropy(base,child1_red,child1_blue) + (child2_red+child2_blue)/(p_red+p_blue)*entropy(base,child2_red,child2_blue))\n",
    "\n",
    "# Running Function\n",
    "entropy_info_gain(2,22,13,18,2,4,11)"
   ]
  },
  {
   "cell_type": "markdown",
   "id": "a02f0016-6828-4cf1-9f1b-5c343e237695",
   "metadata": {},
   "source": []
  },
  {
   "cell_type": "markdown",
   "id": "29fb126e-fb3b-472c-a4f9-ea9bc10ffcef",
   "metadata": {},
   "source": [
    "### Final Takeaways:\n",
    "- Gini’s maximum impurity is 0.5 and maximum purity is 0\n",
    "- Entropy’s maximum impurity is 1 and maximum purity is 0\n",
    "- Different decision tree algorithms utilize different impurity metrics."
   ]
  },
  {
   "cell_type": "code",
   "execution_count": null,
   "id": "d938333c-f55f-4c4d-b6d3-2f9fe44ddea8",
   "metadata": {},
   "outputs": [],
   "source": []
  }
 ],
 "metadata": {
  "kernelspec": {
   "display_name": "Python 3 (ipykernel)",
   "language": "python",
   "name": "python3"
  },
  "language_info": {
   "codemirror_mode": {
    "name": "ipython",
    "version": 3
   },
   "file_extension": ".py",
   "mimetype": "text/x-python",
   "name": "python",
   "nbconvert_exporter": "python",
   "pygments_lexer": "ipython3",
   "version": "3.8.12"
  }
 },
 "nbformat": 4,
 "nbformat_minor": 5
}
