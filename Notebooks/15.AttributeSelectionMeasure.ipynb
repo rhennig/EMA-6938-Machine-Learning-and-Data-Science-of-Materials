{
 "cells": [
  {
   "cell_type": "markdown",
   "id": "b65c1e0d-3116-4d17-8522-f22d475ea2e5",
   "metadata": {},
   "source": [
    "# 15. Attribute Selection Measures\n",
    "\n",
    "Decision trees recursively split features with regard to their target label's purity. Attribute selection measures are designed to find the **optimal point** of the **most predictive feature** in order to split 1 dataset into 2. These 2 new datasets’ target variable will be more pure than the original dataset’s. Purity means how homogeneous a dataset is.\n",
    "\n",
    "How do we measure the **purity** of the 2 new datasets?\n",
    "The two most popular algorithms for measuring purity and selecting the optimal decisions in a decision tree are **Information Entropy** and **Gini Index**.\n",
    "\n",
    "We will discuss how these two methods measure purty using three examples:\n",
    "\n",
    "- If we have 4 red gumballs and 0 blue gumballs, that group of 4 is 100% pure.\n",
    "- If we have 2 red and 2 blue, that group is 100% impure.\n",
    "- If we have 3 red and 1 blue, that group is either 75% or 81% pure, if we use Gini or Entropy respectively.\n",
    "\n",
    "<img src=\"https://github.com/rhennig/EMA6938/blob/main/Notebooks/Figures/Impurity.png?raw=1\" alt=\"Impurity Examples\" align=\"center\" style=\"width:400px; float:center\"/>"
   ]
  },
  {
   "cell_type": "code",
   "execution_count": null,
   "id": "7cb2b3f2-69f4-4feb-8bf3-c06f7fdcb892",
   "metadata": {},
   "outputs": [],
   "source": []
  }
 ],
 "metadata": {
  "kernelspec": {
   "display_name": "Python 3 (ipykernel)",
   "language": "python",
   "name": "python3"
  },
  "language_info": {
   "codemirror_mode": {
    "name": "ipython",
    "version": 3
   },
   "file_extension": ".py",
   "mimetype": "text/x-python",
   "name": "python",
   "nbconvert_exporter": "python",
   "pygments_lexer": "ipython3",
   "version": "3.8.12"
  }
 },
 "nbformat": 4,
 "nbformat_minor": 5
}
